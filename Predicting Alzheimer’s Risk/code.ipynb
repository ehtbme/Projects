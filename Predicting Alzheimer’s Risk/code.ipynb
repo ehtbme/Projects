{
 "cells": [
  {
   "cell_type": "markdown",
   "id": "66c16b83",
   "metadata": {},
   "source": [
    "### 🧩 Simulate Example Clinical Data\n",
    "\n",
    "* Structured: age, blood pressure, cholesterol, cognitive score\n",
    "* Unstructured: short doctor’s note"
   ]
  },
  {
   "cell_type": "code",
   "execution_count": 1,
   "id": "848b4146",
   "metadata": {},
   "outputs": [
    {
     "data": {
      "text/html": [
       "<div>\n",
       "<style scoped>\n",
       "    .dataframe tbody tr th:only-of-type {\n",
       "        vertical-align: middle;\n",
       "    }\n",
       "\n",
       "    .dataframe tbody tr th {\n",
       "        vertical-align: top;\n",
       "    }\n",
       "\n",
       "    .dataframe thead th {\n",
       "        text-align: right;\n",
       "    }\n",
       "</style>\n",
       "<table border=\"1\" class=\"dataframe\">\n",
       "  <thead>\n",
       "    <tr style=\"text-align: right;\">\n",
       "      <th></th>\n",
       "      <th>Age</th>\n",
       "      <th>BloodPressure</th>\n",
       "      <th>Cholesterol</th>\n",
       "      <th>CognitiveScore</th>\n",
       "      <th>DoctorNotes</th>\n",
       "      <th>AlzheimerRisk</th>\n",
       "    </tr>\n",
       "  </thead>\n",
       "  <tbody>\n",
       "    <tr>\n",
       "      <th>0</th>\n",
       "      <td>88</td>\n",
       "      <td>168</td>\n",
       "      <td>250</td>\n",
       "      <td>26.712285</td>\n",
       "      <td>Stable, no signs of cognitive decline</td>\n",
       "      <td>0</td>\n",
       "    </tr>\n",
       "    <tr>\n",
       "      <th>1</th>\n",
       "      <td>78</td>\n",
       "      <td>179</td>\n",
       "      <td>172</td>\n",
       "      <td>34.557648</td>\n",
       "      <td>Normal cognitive response and recall</td>\n",
       "      <td>0</td>\n",
       "    </tr>\n",
       "    <tr>\n",
       "      <th>2</th>\n",
       "      <td>64</td>\n",
       "      <td>112</td>\n",
       "      <td>159</td>\n",
       "      <td>26.597688</td>\n",
       "      <td>Reports occasional disorientation</td>\n",
       "      <td>1</td>\n",
       "    </tr>\n",
       "    <tr>\n",
       "      <th>3</th>\n",
       "      <td>57</td>\n",
       "      <td>129</td>\n",
       "      <td>218</td>\n",
       "      <td>25.966390</td>\n",
       "      <td>Reports occasional disorientation</td>\n",
       "      <td>1</td>\n",
       "    </tr>\n",
       "    <tr>\n",
       "      <th>4</th>\n",
       "      <td>70</td>\n",
       "      <td>168</td>\n",
       "      <td>249</td>\n",
       "      <td>32.980715</td>\n",
       "      <td>Reports occasional disorientation</td>\n",
       "      <td>1</td>\n",
       "    </tr>\n",
       "  </tbody>\n",
       "</table>\n",
       "</div>"
      ],
      "text/plain": [
       "   Age  BloodPressure  Cholesterol  CognitiveScore  \\\n",
       "0   88            168          250       26.712285   \n",
       "1   78            179          172       34.557648   \n",
       "2   64            112          159       26.597688   \n",
       "3   57            129          218       25.966390   \n",
       "4   70            168          249       32.980715   \n",
       "\n",
       "                             DoctorNotes  AlzheimerRisk  \n",
       "0  Stable, no signs of cognitive decline              0  \n",
       "1   Normal cognitive response and recall              0  \n",
       "2      Reports occasional disorientation              1  \n",
       "3      Reports occasional disorientation              1  \n",
       "4      Reports occasional disorientation              1  "
      ]
     },
     "execution_count": 1,
     "metadata": {},
     "output_type": "execute_result"
    }
   ],
   "source": [
    "import pandas as pd\n",
    "import numpy as np\n",
    "\n",
    "np.random.seed(42)\n",
    "\n",
    "# Simulate structured + text data\n",
    "n = 200\n",
    "data = {\n",
    "    \"Age\": np.random.randint(50, 90, n),\n",
    "    \"BloodPressure\": np.random.randint(110, 180, n),\n",
    "    \"Cholesterol\": np.random.randint(150, 300, n),\n",
    "    \"CognitiveScore\": np.random.normal(25, 5, n),\n",
    "    \"DoctorNotes\": np.random.choice([\n",
    "        \"Patient shows memory loss and confusion\",\n",
    "        \"Normal cognitive response and recall\",\n",
    "        \"Reports occasional disorientation\",\n",
    "        \"Severe short-term memory issues observed\",\n",
    "        \"Stable, no signs of cognitive decline\"\n",
    "    ], n),\n",
    "}\n",
    "\n",
    "df = pd.DataFrame(data)\n",
    "\n",
    "# Create a target variable (simulated risk label)\n",
    "df[\"AlzheimerRisk\"] = np.where(\n",
    "    (df[\"CognitiveScore\"] < 22) | (df[\"DoctorNotes\"].str.contains(\"memory|confusion|disorientation\", case=False)), \n",
    "    1, \n",
    "    0\n",
    ")\n",
    "\n",
    "df.head()\n"
   ]
  },
  {
   "cell_type": "markdown",
   "id": "de8e2f79",
   "metadata": {},
   "source": [
    "### 🔤 Get Embeddings from BioGPT/BioBERT (a pretrained biomedical transformer)\n",
    "* tokenizer: breaks sentences into tokens (words/subwords)\n",
    "* model: a neural network that maps tokens to numerical embeddings"
   ]
  },
  {
   "cell_type": "code",
   "execution_count": 2,
   "id": "1773dc66",
   "metadata": {},
   "outputs": [
    {
     "name": "stderr",
     "output_type": "stream",
     "text": [
      "c:\\Users\\tanyi\\anaconda3\\Lib\\site-packages\\transformers\\utils\\generic.py:260: FutureWarning: `torch.utils._pytree._register_pytree_node` is deprecated. Please use `torch.utils._pytree.register_pytree_node` instead.\n",
      "  torch.utils._pytree._register_pytree_node(\n",
      "Asking to truncate to max_length but no maximum length is provided and the model has no predefined maximum length. Default to no truncation.\n"
     ]
    }
   ],
   "source": [
    "from transformers import AutoTokenizer, AutoModel\n",
    "import torch\n",
    "\n",
    "# Load BioGPT or BioBERT (BioBERT loads faster)\n",
    "model_name = \"dmis-lab/biobert-base-cased-v1.1\"\n",
    "tokenizer = AutoTokenizer.from_pretrained(model_name)\n",
    "model = AutoModel.from_pretrained(model_name)\n",
    "\n",
    "# Function to get embedding for a text\n",
    "def get_embedding(text):\n",
    "    inputs = tokenizer(text, return_tensors=\"pt\", truncation=True, padding=True)\n",
    "    with torch.no_grad():\n",
    "        outputs = model(**inputs)\n",
    "    # Average pooling of token embeddings\n",
    "    embedding = outputs.last_hidden_state.mean(dim=1).squeeze().numpy()\n",
    "    return embedding\n",
    "\n",
    "# Apply to all notes\n",
    "embeddings = np.vstack(df[\"DoctorNotes\"].apply(get_embedding).values)\n"
   ]
  },
  {
   "cell_type": "markdown",
   "id": "ea7f1233",
   "metadata": {},
   "source": [
    "### 🧮 Combine Structured + Text Features\n",
    "Combine the numeric features with the embeddings:"
   ]
  },
  {
   "cell_type": "code",
   "execution_count": 3,
   "id": "3d5cdd92",
   "metadata": {},
   "outputs": [],
   "source": [
    "from sklearn.preprocessing import StandardScaler\n",
    "\n",
    "# Structured features\n",
    "structured_features = df[[\"Age\", \"BloodPressure\", \"Cholesterol\", \"CognitiveScore\"]].values\n",
    "\n",
    "# Normalize structured features\n",
    "scaler = StandardScaler()\n",
    "structured_scaled = scaler.fit_transform(structured_features)\n",
    "\n",
    "# Concatenate with embeddings\n",
    "X = np.hstack([structured_scaled, embeddings])\n",
    "y = df[\"AlzheimerRisk\"].values\n"
   ]
  },
  {
   "cell_type": "markdown",
   "id": "1bdf0f2e",
   "metadata": {},
   "source": [
    "### 🧠 Train a Simple ML Model"
   ]
  },
  {
   "cell_type": "code",
   "execution_count": 4,
   "id": "0804b112",
   "metadata": {},
   "outputs": [
    {
     "name": "stdout",
     "output_type": "stream",
     "text": [
      "              precision    recall  f1-score   support\n",
      "\n",
      "           0       1.00      1.00      1.00        13\n",
      "           1       1.00      1.00      1.00        27\n",
      "\n",
      "    accuracy                           1.00        40\n",
      "   macro avg       1.00      1.00      1.00        40\n",
      "weighted avg       1.00      1.00      1.00        40\n",
      "\n",
      "AUC: 1.0\n"
     ]
    }
   ],
   "source": [
    "from sklearn.ensemble import RandomForestClassifier\n",
    "from sklearn.model_selection import train_test_split\n",
    "from sklearn.metrics import classification_report, roc_auc_score\n",
    "\n",
    "X_train, X_test, y_train, y_test = train_test_split(X, y, test_size=0.2, random_state=42)\n",
    "\n",
    "model = RandomForestClassifier(n_estimators=200, random_state=42)\n",
    "model.fit(X_train, y_train)\n",
    "\n",
    "y_pred = model.predict(X_test)\n",
    "print(classification_report(y_test, y_pred))\n",
    "print(\"AUC:\", roc_auc_score(y_test, model.predict_proba(X_test)[:, 1]))\n"
   ]
  },
  {
   "cell_type": "markdown",
   "id": "c54b9750",
   "metadata": {},
   "source": [
    "### 🩸 Interpret Results (Risk Stratification)\n",
    "group patients by predicted probability to simulate risk stratification"
   ]
  },
  {
   "cell_type": "code",
   "execution_count": 5,
   "id": "ba9f8e4a",
   "metadata": {},
   "outputs": [
    {
     "data": {
      "text/html": [
       "<div>\n",
       "<style scoped>\n",
       "    .dataframe tbody tr th:only-of-type {\n",
       "        vertical-align: middle;\n",
       "    }\n",
       "\n",
       "    .dataframe tbody tr th {\n",
       "        vertical-align: top;\n",
       "    }\n",
       "\n",
       "    .dataframe thead th {\n",
       "        text-align: right;\n",
       "    }\n",
       "</style>\n",
       "<table border=\"1\" class=\"dataframe\">\n",
       "  <thead>\n",
       "    <tr style=\"text-align: right;\">\n",
       "      <th></th>\n",
       "      <th>PredictedRisk</th>\n",
       "      <th>RiskLevel</th>\n",
       "    </tr>\n",
       "  </thead>\n",
       "  <tbody>\n",
       "    <tr>\n",
       "      <th>0</th>\n",
       "      <td>1.0</td>\n",
       "      <td>High</td>\n",
       "    </tr>\n",
       "    <tr>\n",
       "      <th>1</th>\n",
       "      <td>1.0</td>\n",
       "      <td>High</td>\n",
       "    </tr>\n",
       "    <tr>\n",
       "      <th>2</th>\n",
       "      <td>0.2</td>\n",
       "      <td>Low</td>\n",
       "    </tr>\n",
       "    <tr>\n",
       "      <th>3</th>\n",
       "      <td>1.0</td>\n",
       "      <td>High</td>\n",
       "    </tr>\n",
       "    <tr>\n",
       "      <th>4</th>\n",
       "      <td>1.0</td>\n",
       "      <td>High</td>\n",
       "    </tr>\n",
       "    <tr>\n",
       "      <th>5</th>\n",
       "      <td>1.0</td>\n",
       "      <td>High</td>\n",
       "    </tr>\n",
       "    <tr>\n",
       "      <th>6</th>\n",
       "      <td>1.0</td>\n",
       "      <td>High</td>\n",
       "    </tr>\n",
       "    <tr>\n",
       "      <th>7</th>\n",
       "      <td>1.0</td>\n",
       "      <td>High</td>\n",
       "    </tr>\n",
       "    <tr>\n",
       "      <th>8</th>\n",
       "      <td>1.0</td>\n",
       "      <td>High</td>\n",
       "    </tr>\n",
       "    <tr>\n",
       "      <th>9</th>\n",
       "      <td>1.0</td>\n",
       "      <td>High</td>\n",
       "    </tr>\n",
       "  </tbody>\n",
       "</table>\n",
       "</div>"
      ],
      "text/plain": [
       "   PredictedRisk RiskLevel\n",
       "0            1.0      High\n",
       "1            1.0      High\n",
       "2            0.2       Low\n",
       "3            1.0      High\n",
       "4            1.0      High\n",
       "5            1.0      High\n",
       "6            1.0      High\n",
       "7            1.0      High\n",
       "8            1.0      High\n",
       "9            1.0      High"
      ]
     },
     "execution_count": 5,
     "metadata": {},
     "output_type": "execute_result"
    }
   ],
   "source": [
    "y_prob = model.predict_proba(X_test)[:, 1]\n",
    "risk_levels = pd.cut(y_prob, bins=[0, 0.33, 0.66, 1], labels=[\"Low\", \"Medium\", \"High\"])\n",
    "risk_summary = pd.DataFrame({\"PredictedRisk\": y_prob, \"RiskLevel\": risk_levels})\n",
    "risk_summary.head(10)\n"
   ]
  },
  {
   "cell_type": "markdown",
   "id": "c250cffd",
   "metadata": {},
   "source": []
  }
 ],
 "metadata": {
  "kernelspec": {
   "display_name": "base",
   "language": "python",
   "name": "python3"
  },
  "language_info": {
   "codemirror_mode": {
    "name": "ipython",
    "version": 3
   },
   "file_extension": ".py",
   "mimetype": "text/x-python",
   "name": "python",
   "nbconvert_exporter": "python",
   "pygments_lexer": "ipython3",
   "version": "3.11.5"
  }
 },
 "nbformat": 4,
 "nbformat_minor": 5
}

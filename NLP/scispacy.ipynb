{
 "cells": [
  {
   "cell_type": "code",
   "execution_count": null,
   "id": "ff19b302",
   "metadata": {
    "vscode": {
     "languageId": "plaintext"
    }
   },
   "outputs": [],
   "source": [
    "import scispacy\n",
    "import spacy\n",
    "nlp = spacy.load(\"en_ner_bionlp13cg_md\")  # Or another SciSpacy model\n",
    "text = \"Mutations in the APP gene are associated with Alzheimer's disease.\"\n",
    "doc = nlp(text)\n",
    "\n",
    "for ent in doc.ents:\n",
    "    print(ent.text, ent.label_)\n"
   ]
  }
 ],
 "metadata": {
  "language_info": {
   "name": "python"
  }
 },
 "nbformat": 4,
 "nbformat_minor": 5
}
